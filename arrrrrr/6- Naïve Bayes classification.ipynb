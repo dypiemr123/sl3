{
 "cells": [
  {
   "cell_type": "code",
   "execution_count": 17,
   "id": "548ff6bc-0b9c-4db9-b6a8-f46868d5d363",
   "metadata": {},
   "outputs": [],
   "source": [
    "import pandas as pd\n",
    "import numpy as np\n",
    "from sklearn.model_selection import train_test_split\n",
    "from sklearn.naive_bayes import GaussianNB\n",
    "from sklearn.metrics import confusion_matrix, classification_report, accuracy_score\n",
    "from sklearn.preprocessing import StandardScaler\n",
    "import seaborn as sns\n",
    "import matplotlib.pyplot as plt\n"
   ]
  },
  {
   "cell_type": "code",
   "execution_count": 18,
   "id": "da91440d-54a7-42a2-9e85-79a777ecb3fa",
   "metadata": {},
   "outputs": [
    {
     "name": "stdout",
     "output_type": "stream",
     "text": [
      "   sepal_length  sepal_width  petal_length  petal_width species\n",
      "0           5.1          3.5           1.4          0.2  setosa\n",
      "1           4.9          3.0           1.4          0.2  setosa\n",
      "2           4.7          3.2           1.3          0.2  setosa\n",
      "3           4.6          3.1           1.5          0.2  setosa\n",
      "4           5.0          3.6           1.4          0.2  setosa\n"
     ]
    }
   ],
   "source": [
    "# Step 1: Load the dataset\n",
    "# Load iris dataset\n",
    "df = pd.read_csv('iris6th.csv')\n",
    "\n",
    "print(df.head())"
   ]
  },
  {
   "cell_type": "code",
   "execution_count": 19,
   "id": "9e8dff1f-c2e4-4bdc-94fe-9cc2ea4d8d20",
   "metadata": {},
   "outputs": [
    {
     "name": "stdout",
     "output_type": "stream",
     "text": [
      "sepal_length    0\n",
      "sepal_width     0\n",
      "petal_length    0\n",
      "petal_width     0\n",
      "species         0\n",
      "dtype: int64\n"
     ]
    }
   ],
   "source": [
    "# 3: Data Preprocessing\n",
    "# Check for Missing Values\n",
    "\n",
    "\n",
    "print(df.isnull().sum())  # Ensure all values are present"
   ]
  },
  {
   "cell_type": "code",
   "execution_count": 20,
   "id": "9fe6f3b9-5709-426f-8b8b-5bb2eb0e53fb",
   "metadata": {},
   "outputs": [
    {
     "name": "stdout",
     "output_type": "stream",
     "text": [
      "sepal_length    0\n",
      "sepal_width     0\n",
      "petal_length    0\n",
      "petal_width     0\n",
      "species         0\n",
      "dtype: int64\n"
     ]
    }
   ],
   "source": [
    "\n",
    "\n",
    "\n",
    "# Option 1: Drop rows with missing values\n",
    "# df = df.dropna()\n",
    "\n",
    "# Option 2: Impute missing values with mean (for numerical columns)\n",
    "df['sepal_length'] = df['sepal_length'].fillna(df['sepal_length'].mean())\n",
    "df['sepal_width'] = df['sepal_width'].fillna(df['sepal_width'].median())\n",
    "df['petal_length'] = df['petal_length'].fillna(df['petal_length'].mean())\n",
    "df['petal_width'] = df['petal_width'].fillna(df['petal_width'].median())\n",
    "\n",
    "# Option 3: Impute missing values in categorical columns with mode (for species)\n",
    "df['species'] = df['species'].fillna(df['species'].mode()[0])\n",
    "\n",
    "# Verify if there are any remaining missing values\n",
    "print(df.isnull().sum())\n"
   ]
  },
  {
   "cell_type": "code",
   "execution_count": 21,
   "id": "47cd1c3a-6a5a-4daf-b3a9-c23f685d9014",
   "metadata": {},
   "outputs": [
    {
     "name": "stdout",
     "output_type": "stream",
     "text": [
      "       sepal_length  sepal_width  petal_length  petal_width\n",
      "count     81.000000    81.000000     81.000000    81.000000\n",
      "mean       5.945679     3.033333      3.946914     1.264198\n",
      "std        0.840097     0.448330      1.745357     0.740829\n",
      "min        4.300000     2.000000      1.100000     0.100000\n",
      "25%        5.300000     2.800000      1.600000     0.400000\n",
      "50%        6.000000     3.000000      4.500000     1.400000\n",
      "75%        6.500000     3.200000      5.100000     1.800000\n",
      "max        7.700000     4.400000      6.900000     2.500000\n",
      "sepal_length    float64\n",
      "sepal_width     float64\n",
      "petal_length    float64\n",
      "petal_width     float64\n",
      "species          object\n",
      "dtype: object\n"
     ]
    }
   ],
   "source": [
    "# .2 Describe Dataset\n",
    "\n",
    "print(df.describe())\n",
    "print(df.dtypes)"
   ]
  },
  {
   "cell_type": "code",
   "execution_count": 22,
   "id": "b8152f63-2118-4bd8-8da8-a029847aa4d6",
   "metadata": {},
   "outputs": [
    {
     "data": {
      "image/png": "[encoded data removed]",
      "text/plain": [
       "<Figure size 1200x600 with 6 Axes>"
      ]
     },
     "metadata": {},
     "output_type": "display_data"
    }
   ],
   "source": [
    "# Check for Outliers \n",
    "\n",
    "# Boxplot for visual outlier detection\n",
    "df.plot(kind='box', subplots=True, layout=(2,3), figsize=(12,6))\n",
    "plt.tight_layout()\n",
    "plt.show()"
   ]
  },
  {
   "cell_type": "code",
   "execution_count": 23,
   "id": "c904fc71-f0f3-4188-ab90-86961c990aaa",
   "metadata": {},
   "outputs": [],
   "source": [
    "#  Normalize the Data\n",
    "\n",
    "# Separate features and target\n",
    "X = df.drop('species', axis=1)\n",
    "y = df['species']\n",
    "\n",
    "# Normalize features\n",
    "scaler = StandardScaler()\n",
    "X_scaled = scaler.fit_transform(X)"
   ]
  },
  {
   "cell_type": "code",
   "execution_count": 24,
   "id": "53b57401-aaa5-416b-84d5-84e01ce7fc0c",
   "metadata": {},
   "outputs": [],
   "source": [
    " # Split Data into Training and Testing\n",
    "\n",
    "X_train, X_test, y_train, y_test = train_test_split(\n",
    "    X_scaled, y, test_size=0.2, random_state=42\n",
    ")"
   ]
  },
  {
   "cell_type": "code",
   "execution_count": 25,
   "id": "ba60e582-c6e4-4f31-958d-0c0ab5193bac",
   "metadata": {},
   "outputs": [],
   "source": [
    "# : Naïve Bayes Classification\n",
    "\n",
    "# Train Naive Bayes model\n",
    "model = GaussianNB()\n",
    "model.fit(X_train, y_train)\n",
    "\n",
    "# Predict on test data\n",
    "y_pred = model.predict(X_test)"
   ]
  },
  {
   "cell_type": "code",
   "execution_count": 26,
   "id": "f6607d19-cb14-45f7-80c8-d303d4f74cdf",
   "metadata": {},
   "outputs": [
    {
     "name": "stdout",
     "output_type": "stream",
     "text": [
      "Confusion Matrix:\n",
      " [[6 0 0]\n",
      " [0 7 0]\n",
      " [0 0 4]]\n",
      "Classification Report:\n",
      "               precision    recall  f1-score   support\n",
      "\n",
      "      setosa       1.00      1.00      1.00         6\n",
      "  versicolor       1.00      1.00      1.00         7\n",
      "   virginica       1.00      1.00      1.00         4\n",
      "\n",
      "    accuracy                           1.00        17\n",
      "   macro avg       1.00      1.00      1.00        17\n",
      "weighted avg       1.00      1.00      1.00        17\n",
      "\n",
      "Accuracy: 1.00\n",
      "Error Rate: 0.00\n"
     ]
    }
   ],
   "source": [
    "# Step 6: Confusion Matrix and Metrics\n",
    "\n",
    "# Confusion matrix\n",
    "cm = confusion_matrix(y_test, y_pred)\n",
    "print(\"Confusion Matrix:\\n\", cm)\n",
    "\n",
    "# Detailed metrics\n",
    "print(\"Classification Report:\\n\", classification_report(y_test, y_pred))\n",
    "\n",
    "# Accuracy & Error\n",
    "accuracy = accuracy_score(y_test, y_pred)\n",
    "error_rate = 1 - accuracy\n",
    "print(f\"Accuracy: {accuracy:.2f}\")\n",
    "print(f\"Error Rate: {error_rate:.2f}\")"
   ]
  },
  {
   "cell_type": "code",
   "execution_count": 27,
   "id": "426e376a-1cf4-4ea3-ae9c-002255679968",
   "metadata": {},
   "outputs": [
    {
     "name": "stdout",
     "output_type": "stream",
     "text": [
      "            setosa  versicolor  virginica\n",
      "setosa           6           0          0\n",
      "versicolor       0           7          0\n",
      "virginica        0           0          4\n"
     ]
    }
   ],
   "source": [
    "# Extract TP, TN, FP, FN for each class (multiclass case)\n",
    "labels = df['species'].unique()\n",
    "cm_df = pd.DataFrame(cm, index=labels, columns=labels)\n",
    "print(cm_df)\n"
   ]
  },
  {
   "cell_type": "code",
   "execution_count": 28,
   "id": "13799102-ff91-4f68-b458-78e4459a7647",
   "metadata": {},
   "outputs": [
    {
     "name": "stdout",
     "output_type": "stream",
     "text": [
      "\n",
      "Class: setosa\n",
      "TP: 6, FP: 0, FN: 0, TN: 11\n",
      "Accuracy: 1.00, Error Rate: 0.00\n",
      "Precision: 1.00, Recall: 1.00\n",
      "\n",
      "Class: versicolor\n",
      "TP: 7, FP: 0, FN: 0, TN: 10\n",
      "Accuracy: 1.00, Error Rate: 0.00\n",
      "Precision: 1.00, Recall: 1.00\n",
      "\n",
      "Class: virginica\n",
      "TP: 4, FP: 0, FN: 0, TN: 13\n",
      "Accuracy: 1.00, Error Rate: 0.00\n",
      "Precision: 1.00, Recall: 1.00\n"
     ]
    }
   ],
   "source": [
    "# Step 6: Compute TP, FP, TN, FN, Accuracy, Error Rate, Precision, Recall\n",
    "total = np.sum(cm)\n",
    "for i, label in enumerate(labels):\n",
    "    TP = cm[i, i]\n",
    "    FP = cm[:, i].sum() - TP\n",
    "    FN = cm[i, :].sum() - TP\n",
    "    TN = total - (TP + FP + FN)\n",
    "\n",
    "    accuracy = (TP + TN) / total\n",
    "    error_rate = 1 - accuracy\n",
    "    precision = TP / (TP + FP) if (TP + FP) > 0 else 0\n",
    "    recall = TP / (TP + FN) if (TP + FN) > 0 else 0\n",
    "\n",
    "    print(f\"\\nClass: {label}\")\n",
    "    print(f\"TP: {TP}, FP: {FP}, FN: {FN}, TN: {TN}\")\n",
    "    print(f\"Accuracy: {accuracy:.2f}, Error Rate: {error_rate:.2f}\")\n",
    "    print(f\"Precision: {precision:.2f}, Recall: {recall:.2f}\")"
   ]
  },
  {
   "cell_type": "code",
   "execution_count": 29,
   "id": "02c455d7-c8f9-42f7-8a3d-d192998a15c0",
   "metadata": {},
   "outputs": [
    {
     "data": {
      "image/png": "[encoded data removed]",
      "text/plain": [
       "<Figure size 640x480 with 2 Axes>"
      ]
     },
     "metadata": {},
     "output_type": "display_data"
    }
   ],
   "source": [
    " # Confusion Matrix Heatmap\n",
    "\n",
    "sns.heatmap(cm, annot=True, fmt='d', cmap='Blues', xticklabels=labels, yticklabels=labels)\n",
    "plt.xlabel('Predicted')\n",
    "plt.ylabel('Actual')\n",
    "plt.title('Naïve Bayes Confusion Matrix')\n",
    "plt.show()"
   ]
  },
  {
   "cell_type": "code",
   "execution_count": null,
   "id": "46d94387-5605-421a-8716-3f3dec88348f",
   "metadata": {},
   "outputs": [],
   "source": []
  }
 ],
 "metadata": {
  "kernelspec": {
   "display_name": "Python 3 (ipykernel)",
   "language": "python",
   "name": "python3"
  },
  "language_info": {
   "codemirror_mode": {
    "name": "ipython",
    "version": 3
   },
   "file_extension": ".py",
   "mimetype": "text/x-python",
   "name": "python",
   "nbconvert_exporter": "python",
   "pygments_lexer": "ipython3",
   "version": "3.12.4"
  }
 },
 "nbformat": 4,
 "nbformat_minor": 5
}
