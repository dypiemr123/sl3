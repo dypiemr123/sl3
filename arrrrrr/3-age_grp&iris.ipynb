{
 "cells": [
  {
   "cell_type": "code",
   "execution_count": 45,
   "id": "91995ba6-49ac-4e59-b1f0-22c64473e0c0",
   "metadata": {},
   "outputs": [],
   "source": [
    "import pandas as pd\n",
    "import numpy as np\n",
    "import seaborn as sns\n",
    "import matplotlib.pyplot as plt\n",
    "from sklearn.preprocessing import MinMaxScaler"
   ]
  },
  {
   "cell_type": "code",
   "execution_count": 46,
   "id": "578d3c9a-fd64-44dd-85a0-de34bd668ba7",
   "metadata": {},
   "outputs": [],
   "source": [
    "# Sample Dataset\n",
    "data = {\n",
    "    'Age_Group': ['18-25', '26-35', '36-45', '26-35', '36-45', '18-25', '18-25', '46-60', '46-60', '26-35'],\n",
    "    'Income': [25000, 50000, 60000, 52000, 61000, 24000, 23000, 55000, 57000, 48000]\n",
    "}\n",
    "df = pd.DataFrame(data)"
   ]
  },
  {
   "cell_type": "code",
   "execution_count": 47,
   "id": "abe076cd-4c75-4357-bac4-08174388c92e",
   "metadata": {},
   "outputs": [
    {
     "name": "stdout",
     "output_type": "stream",
     "text": [
      " Summary Statistics Grouped by Age Group:\n",
      "              mean   median    min    max          std\n",
      "Age_Group                                             \n",
      "18-25      24000.0  24000.0  23000  25000  1000.000000\n",
      "26-35      50000.0  50000.0  48000  52000  2000.000000\n",
      "36-45      60500.0  60500.0  60000  61000   707.106781\n",
      "46-60      56000.0  56000.0  55000  57000  1414.213562\n"
     ]
    }
   ],
   "source": [
    "\n",
    "# 1. Summary statistics grouped by categorical variable\n",
    "grouped_stats = df.groupby('Age_Group')['Income'].agg(['mean', 'median', 'min', 'max', 'std'])\n",
    "print(\" Summary Statistics Grouped by Age Group:\")\n",
    "print(grouped_stats)\n"
   ]
  },
  {
   "cell_type": "code",
   "execution_count": 48,
   "id": "c9a96df4-e29f-47f6-a98e-18ae602190ba",
   "metadata": {},
   "outputs": [
    {
     "name": "stdout",
     "output_type": "stream",
     "text": [
      "\n",
      "📋 Income Values by Age Group:\n",
      "18-25: [25000, 24000, 23000]\n",
      "26-35: [50000, 52000, 48000]\n",
      "36-45: [60000, 61000]\n",
      "46-60: [55000, 57000]\n"
     ]
    }
   ],
   "source": [
    "# 2. Create a list for each Age_Group\n",
    "income_by_group = df.groupby('Age_Group')['Income'].apply(list).to_dict()\n",
    "print(\"\\n📋 Income Values by Age Group:\")\n",
    "for group, values in income_by_group.items():\n",
    "    print(f\"{group}: {values}\")"
   ]
  },
  {
   "cell_type": "code",
   "execution_count": 49,
   "id": "e72b931b-287a-4a59-bcb4-6b341312b17f",
   "metadata": {},
   "outputs": [],
   "source": [
    "# Part 2: Iris Dataset Summary + Preprocessing"
   ]
  },
  {
   "cell_type": "code",
   "execution_count": 50,
   "id": "e67ca2b5-8bdf-4549-93c6-f7a1e249a9dc",
   "metadata": {},
   "outputs": [],
   "source": [
    "# Load iris dataset\n",
    "iris = sns.load_dataset(\"iris\")"
   ]
  },
  {
   "cell_type": "code",
   "execution_count": 51,
   "id": "86447863-031f-4004-b9e0-28960a3e25c7",
   "metadata": {},
   "outputs": [
    {
     "name": "stdout",
     "output_type": "stream",
     "text": [
      "\n",
      "Missing values:\n",
      " sepal_length    0\n",
      "sepal_width     0\n",
      "petal_length    0\n",
      "petal_width     0\n",
      "species         0\n",
      "dtype: int64\n"
     ]
    }
   ],
   "source": [
    "# 1. Check for missing values\n",
    "print(\"\\nMissing values:\\n\", iris.isnull().sum())"
   ]
  },
  {
   "cell_type": "code",
   "execution_count": 52,
   "id": "43f60e6f-a652-45ec-9d2c-60965dc5c9d9",
   "metadata": {},
   "outputs": [
    {
     "data": {
      "image/png": "[encoded data removed]",
      "text/plain": [
       "<Figure size 1000x500 with 1 Axes>"
      ]
     },
     "metadata": {},
     "output_type": "display_data"
    }
   ],
   "source": [
    "# 2. Check for outliers (boxplot)\n",
    "iris[['sepal_length', 'sepal_width', 'petal_length', 'petal_width']].boxplot(figsize=(10, 5))\n",
    "plt.title(\"Outlier Detection\")\n",
    "plt.show()\n"
   ]
  },
  {
   "cell_type": "code",
   "execution_count": 53,
   "id": "70c012f8-5ba6-492d-aab1-b4b7443497e5",
   "metadata": {},
   "outputs": [],
   "source": [
    "# 3. Scale & Normalize\n",
    "scaler = MinMaxScaler()\n",
    "scaled_values = scaler.fit_transform(iris[['sepal_length', 'sepal_width', 'petal_length', 'petal_width']])\n",
    "iris_scaled = iris.copy()\n",
    "iris_scaled[['sepal_length', 'sepal_width', 'petal_length', 'petal_width']] = scaled_values\n",
    "# print(scaled_values)"
   ]
  },
  {
   "cell_type": "code",
   "execution_count": 54,
   "id": "29a777f1-b80f-4545-9ce8-ffd31b8247c2",
   "metadata": {},
   "outputs": [
    {
     "name": "stdout",
     "output_type": "stream",
     "text": [
      "\n",
      " Descriptive Statistics by Species:\n",
      "species                setosa  versicolor  virginica\n",
      "sepal_length count  50.000000   50.000000  50.000000\n",
      "             mean    0.196111    0.454444   0.635556\n",
      "             std     0.097914    0.143381   0.176633\n",
      "             min     0.000000    0.166667   0.166667\n",
      "             25%     0.138889    0.361111   0.534722\n",
      "             50%     0.194444    0.444444   0.611111\n",
      "             75%     0.250000    0.555556   0.722222\n",
      "             max     0.416667    0.750000   1.000000\n",
      "sepal_width  count  50.000000   50.000000  50.000000\n",
      "             mean    0.595000    0.320833   0.405833\n",
      "             std     0.157943    0.130749   0.134374\n",
      "             min     0.125000    0.000000   0.083333\n",
      "             25%     0.500000    0.218750   0.333333\n",
      "             50%     0.583333    0.333333   0.416667\n",
      "             75%     0.697917    0.416667   0.489583\n",
      "             max     1.000000    0.583333   0.750000\n",
      "petal_length count  50.000000   50.000000  50.000000\n",
      "             mean    0.078305    0.552542   0.771525\n",
      "             std     0.029435    0.079646   0.093541\n",
      "             min     0.000000    0.338983   0.593220\n",
      "             25%     0.067797    0.508475   0.694915\n",
      "             50%     0.084746    0.567797   0.771186\n",
      "             75%     0.097458    0.610169   0.826271\n",
      "             max     0.152542    0.694915   1.000000\n",
      "petal_width  count  50.000000   50.000000  50.000000\n",
      "             mean    0.060833    0.510833   0.802500\n",
      "             std     0.043911    0.082397   0.114438\n",
      "             min     0.000000    0.375000   0.541667\n",
      "             25%     0.041667    0.458333   0.708333\n",
      "             50%     0.041667    0.500000   0.791667\n",
      "             75%     0.083333    0.583333   0.916667\n",
      "             max     0.208333    0.708333   1.000000\n"
     ]
    }
   ],
   "source": [
    "# 4. Descriptive statistics for each species\n",
    "print(\"\\n Descriptive Statistics by Species:\")\n",
    "stats_by_species = iris_scaled.groupby('species').describe().T\n",
    "print(stats_by_species)"
   ]
  },
  {
   "cell_type": "code",
   "execution_count": 55,
   "id": "aa88f163-202d-43eb-b3a9-cd8d5f854453",
   "metadata": {},
   "outputs": [
    {
     "name": "stdout",
     "output_type": "stream",
     "text": [
      "\n",
      " Percentiles for setosa:\n",
      "       sepal_length  sepal_width  petal_length  petal_width\n",
      "count     50.000000    50.000000     50.000000    50.000000\n",
      "mean       0.196111     0.595000      0.078305     0.060833\n",
      "std        0.097914     0.157943      0.029435     0.043911\n",
      "min        0.000000     0.125000      0.000000     0.000000\n",
      "25%        0.138889     0.500000      0.067797     0.041667\n",
      "50%        0.194444     0.583333      0.084746     0.041667\n",
      "75%        0.250000     0.697917      0.097458     0.083333\n",
      "max        0.416667     1.000000      0.152542     0.208333\n",
      "\n",
      " Percentiles for versicolor:\n",
      "       sepal_length  sepal_width  petal_length  petal_width\n",
      "count     50.000000    50.000000     50.000000    50.000000\n",
      "mean       0.454444     0.320833      0.552542     0.510833\n",
      "std        0.143381     0.130749      0.079646     0.082397\n",
      "min        0.166667     0.000000      0.338983     0.375000\n",
      "25%        0.361111     0.218750      0.508475     0.458333\n",
      "50%        0.444444     0.333333      0.567797     0.500000\n",
      "75%        0.555556     0.416667      0.610169     0.583333\n",
      "max        0.750000     0.583333      0.694915     0.708333\n",
      "\n",
      " Percentiles for virginica:\n",
      "       sepal_length  sepal_width  petal_length  petal_width\n",
      "count     50.000000    50.000000     50.000000    50.000000\n",
      "mean       0.635556     0.405833      0.771525     0.802500\n",
      "std        0.176633     0.134374      0.093541     0.114438\n",
      "min        0.166667     0.083333      0.593220     0.541667\n",
      "25%        0.534722     0.333333      0.694915     0.708333\n",
      "50%        0.611111     0.416667      0.771186     0.791667\n",
      "75%        0.722222     0.489583      0.826271     0.916667\n",
      "max        1.000000     0.750000      1.000000     1.000000\n"
     ]
    }
   ],
   "source": [
    "# 5. Percentiles for each species\n",
    "for species in iris_scaled['species'].unique():\n",
    "    print(f\"\\n Percentiles for {species}:\")\n",
    "    species_data = iris_scaled[iris_scaled['species'] == species]\n",
    "    print(species_data.describe(percentiles=[.25, .5, .75]))"
   ]
  },
  {
   "cell_type": "code",
   "execution_count": null,
   "id": "f5c702e7-ae5b-4312-adcc-8d00f0f86c55",
   "metadata": {},
   "outputs": [],
   "source": []
  },
  {
   "cell_type": "code",
   "execution_count": null,
   "id": "ae76faa8-216a-4132-a1a5-33e1f4264627",
   "metadata": {},
   "outputs": [],
   "source": []
  },
  {
   "cell_type": "code",
   "execution_count": null,
   "id": "b3209b8a-7d82-4fe1-bd6d-a0f0e1ca4d7e",
   "metadata": {},
   "outputs": [],
   "source": []
  },
  {
   "cell_type": "code",
   "execution_count": null,
   "id": "b588dea8-75a5-4d98-bc47-ca53d40179ef",
   "metadata": {},
   "outputs": [],
   "source": []
  },
  {
   "cell_type": "code",
   "execution_count": null,
   "id": "75df91fd-4cb3-45c2-a096-965f434b3be2",
   "metadata": {},
   "outputs": [],
   "source": []
  }
 ],
 "metadata": {
  "kernelspec": {
   "display_name": "Python 3 (ipykernel)",
   "language": "python",
   "name": "python3"
  },
  "language_info": {
   "codemirror_mode": {
    "name": "ipython",
    "version": 3
   },
   "file_extension": ".py",
   "mimetype": "text/x-python",
   "name": "python",
   "nbconvert_exporter": "python",
   "pygments_lexer": "ipython3",
   "version": "3.12.4"
  }
 },
 "nbformat": 4,
 "nbformat_minor": 5
}
