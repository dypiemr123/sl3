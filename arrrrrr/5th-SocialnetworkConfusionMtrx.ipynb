{
 "cells": [
  {
   "cell_type": "code",
   "execution_count": 6,
   "id": "83ca40e2-eeae-4987-be98-088473eff28a",
   "metadata": {},
   "outputs": [
    {
     "name": "stdout",
     "output_type": "stream",
     "text": [
      "    User ID  Gender  Age  EstimatedSalary  Purchased\n",
      "0  15624510    Male   19            19000          0\n",
      "1  15810944    Male   35            20000          0\n",
      "2  15668575  Female   26            43000          0\n",
      "3  15603246  Female   27            57000          0\n",
      "4  15804002    Male   19            76000          0\n",
      "<class 'pandas.core.frame.DataFrame'>\n",
      "RangeIndex: 400 entries, 0 to 399\n",
      "Data columns (total 5 columns):\n",
      " #   Column           Non-Null Count  Dtype \n",
      "---  ------           --------------  ----- \n",
      " 0   User ID          400 non-null    int64 \n",
      " 1   Gender           400 non-null    object\n",
      " 2   Age              400 non-null    int64 \n",
      " 3   EstimatedSalary  400 non-null    int64 \n",
      " 4   Purchased        400 non-null    int64 \n",
      "dtypes: int64(4), object(1)\n",
      "memory usage: 15.8+ KB\n",
      "None\n"
     ]
    }
   ],
   "source": [
    " # Load & Inspect the Data\n",
    "\n",
    "import pandas as pd\n",
    "import numpy as np\n",
    "import matplotlib.pyplot as plt\n",
    "import seaborn as sns\n",
    "from sklearn.linear_model import LogisticRegression\n",
    "from sklearn.model_selection import train_test_split\n",
    "from sklearn.preprocessing import StandardScaler\n",
    "from sklearn.metrics import confusion_matrix, classification_report\n",
    "\n",
    "# Load dataset\n",
    "df = pd.read_csv(\"Social_Network_Ads.csv\")\n",
    "\n",
    "# View top records\n",
    "print(df.head())\n",
    "print(df.info())\n"
   ]
  },
  {
   "cell_type": "code",
   "execution_count": 7,
   "id": "60643758-40f8-4085-b147-b0bdbe8ccd81",
   "metadata": {},
   "outputs": [
    {
     "name": "stdout",
     "output_type": "stream",
     "text": [
      "\n",
      "Missing Values:\n",
      " User ID            0\n",
      "Gender             0\n",
      "Age                0\n",
      "EstimatedSalary    0\n",
      "Purchased          0\n",
      "dtype: int64\n"
     ]
    }
   ],
   "source": [
    "# Data Preprocessing\n",
    "# A. Check for Nulls\n",
    "\n",
    "print(\"\\nMissing Values:\\n\", df.isnull().sum())"
   ]
  },
  {
   "cell_type": "code",
   "execution_count": 8,
   "id": "dab605f1-952c-4b4e-a69c-512741a097e4",
   "metadata": {},
   "outputs": [
    {
     "name": "stdout",
     "output_type": "stream",
     "text": [
      "Before dropping rows: (400, 5)\n",
      "After dropping rows: (400, 5)\n"
     ]
    }
   ],
   "source": [
    "# Drop rows with missing values (if any)\n",
    "df_before = df.copy()\n",
    "df = df.dropna()\n",
    "\n",
    "# Compare the shape of the DataFrame before and after dropping rows\n",
    "print(f\"Before dropping rows: {df_before.shape}\")\n",
    "print(f\"After dropping rows: {df.shape}\")\n"
   ]
  },
  {
   "cell_type": "code",
   "execution_count": 9,
   "id": "b8da1054-f20d-4712-b897-9f904cf76d1d",
   "metadata": {},
   "outputs": [
    {
     "name": "stdout",
     "output_type": "stream",
     "text": [
      "            User ID         Age  EstimatedSalary   Purchased\n",
      "count  4.000000e+02  400.000000       400.000000  400.000000\n",
      "mean   1.569154e+07   37.655000     69742.500000    0.357500\n",
      "std    7.165832e+04   10.482877     34096.960282    0.479864\n",
      "min    1.556669e+07   18.000000     15000.000000    0.000000\n",
      "25%    1.562676e+07   29.750000     43000.000000    0.000000\n",
      "50%    1.569434e+07   37.000000     70000.000000    0.000000\n",
      "75%    1.575036e+07   46.000000     88000.000000    1.000000\n",
      "max    1.581524e+07   60.000000    150000.000000    1.000000\n"
     ]
    }
   ],
   "source": [
    "# Check Descriptive Stats\n",
    "\n",
    "print(df.describe())"
   ]
  },
  {
   "cell_type": "code",
   "execution_count": 10,
   "id": "cacfdc14-1c6f-4c79-94e6-978397b803e1",
   "metadata": {},
   "outputs": [
    {
     "name": "stdout",
     "output_type": "stream",
     "text": [
      "User ID             int64\n",
      "Gender             object\n",
      "Age                 int64\n",
      "EstimatedSalary     int64\n",
      "Purchased           int64\n",
      "dtype: object\n"
     ]
    }
   ],
   "source": [
    "# Check Data Types\n",
    "\n",
    "print(df.dtypes)"
   ]
  },
  {
   "cell_type": "code",
   "execution_count": 11,
   "id": "f61a82fa-a260-4295-abff-550722fbf612",
   "metadata": {},
   "outputs": [
    {
     "name": "stdout",
     "output_type": "stream",
     "text": [
      "\n",
      "Outliers in Age:\n",
      " Empty DataFrame\n",
      "Columns: [Age]\n",
      "Index: []\n",
      "\n",
      "Outliers in EstimatedSalary:\n",
      " Empty DataFrame\n",
      "Columns: [EstimatedSalary]\n",
      "Index: []\n"
     ]
    }
   ],
   "source": [
    "# Outlier Detection (IQR method)\n",
    "\n",
    "numeric_cols = ['Age', 'EstimatedSalary']\n",
    "for col in numeric_cols:\n",
    "    Q1 = df[col].quantile(0.25)\n",
    "    Q3 = df[col].quantile(0.75)\n",
    "    IQR = Q3 - Q1\n",
    "    outliers = df[(df[col] < Q1 - 1.5*IQR) | (df[col] > Q3 + 1.5*IQR)]\n",
    "    print(f\"\\nOutliers in {col}:\\n\", outliers[[col]])\n",
    "\n",
    "    # The result you see means that there were no values in the \"Age\" and \"EstimatedSalary\" columns that lie outside the calculated bounds for outliers.\n",
    "\n",
    "# Therefore, the \"Empty DataFrame\" shows that no rows meet the outlier condition."
   ]
  },
  {
   "cell_type": "code",
   "execution_count": 12,
   "id": "5043e019-4e93-41cd-9074-3e9bcb5f8dc9",
   "metadata": {},
   "outputs": [
    {
     "name": "stdout",
     "output_type": "stream",
     "text": [
      "        Age  EstimatedSalary\n",
      "0 -1.781797        -1.490046\n",
      "1 -0.253587        -1.460681\n",
      "2 -1.113206        -0.785290\n",
      "3 -1.017692        -0.374182\n",
      "4 -1.781797         0.183751\n"
     ]
    }
   ],
   "source": [
    "# Step 3: Data Scaling (Normalization)\n",
    "\n",
    "X = df[['Age', 'EstimatedSalary']]\n",
    "y = df['Purchased']  # Target column\n",
    "\n",
    "scaler = StandardScaler()\n",
    "X_scaled = scaler.fit_transform(X)\n",
    "\n",
    "# Convert the scaled data back to a DataFrame for easier inspection\n",
    "X_scaled_df = pd.DataFrame(X_scaled, columns=['Age', 'EstimatedSalary'])\n",
    "\n",
    "# Display the first few rows of the scaled data\n",
    "print(X_scaled_df.head())\n",
    "\n",
    "# or example, the first value in the Age column is -1.781797, which means that the age for this entry is 1.78 standard deviations below the mean.\n",
    "\n",
    "# Similarly, the first value in EstimatedSalary is -1.490046, which means that the salary for this entry is 1.49 standard deviations below the mean.\n"
   ]
  },
  {
   "cell_type": "code",
   "execution_count": 13,
   "id": "a8ab47de-3ddb-4e13-96a2-5589a53abd43",
   "metadata": {},
   "outputs": [],
   "source": [
    "# Step 4: Logistic Regression Model\n",
    "\n",
    "# Split data\n",
    "X_train, X_test, y_train, y_test = train_test_split(X_scaled, y, test_size=0.3, random_state=42)\n",
    "\n",
    "# Build and train model\n",
    "model = LogisticRegression()\n",
    "model.fit(X_train, y_train)\n",
    "\n",
    "# Predict\n",
    "y_pred = model.predict(X_test)"
   ]
  },
  {
   "cell_type": "code",
   "execution_count": 14,
   "id": "44e43c03-3b03-4655-ab3e-aea4f490530f",
   "metadata": {},
   "outputs": [
    {
     "name": "stdout",
     "output_type": "stream",
     "text": [
      "\n",
      "Confusion Matrix:\n",
      " [[71  2]\n",
      " [16 31]]\n",
      "\n",
      "TP: 31, FP: 2, TN: 71, FN: 16\n",
      "Accuracy: 0.85\n",
      "Error Rate: 0.15\n",
      "Precision: 0.94\n",
      "Recall: 0.66\n"
     ]
    }
   ],
   "source": [
    " # Confusion Matrix and Metrics\n",
    "\n",
    "# Confusion matrix\n",
    "cm = confusion_matrix(y_test, y_pred)\n",
    "print(\"\\nConfusion Matrix:\\n\", cm)\n",
    "\n",
    "# TP, FP, TN, FN\n",
    "TN, FP, FN, TP = cm.ravel()\n",
    "\n",
    "# Metrics\n",
    "accuracy = (TP + TN) / (TP + TN + FP + FN)\n",
    "error_rate = 1 - accuracy\n",
    "precision = TP / (TP + FP)\n",
    "recall = TP / (TP + FN)\n",
    "\n",
    "print(f\"\\nTP: {TP}, FP: {FP}, TN: {TN}, FN: {FN}\")\n",
    "print(f\"Accuracy: {accuracy:.2f}\")\n",
    "print(f\"Error Rate: {error_rate:.2f}\")\n",
    "print(f\"Precision: {precision:.2f}\")\n",
    "print(f\"Recall: {recall:.2f}\")"
   ]
  },
  {
   "cell_type": "code",
   "execution_count": 15,
   "id": "569ada0f-daae-49f0-a059-3c053faafeaa",
   "metadata": {},
   "outputs": [
    {
     "data": {
      "image/png": "[encoded data removed]",
      "text/plain": [
       "<Figure size 640x480 with 2 Axes>"
      ]
     },
     "metadata": {},
     "output_type": "display_data"
    }
   ],
   "source": [
    " # Visualize Confusion Matrix\n",
    "\n",
    "sns.heatmap(cm, annot=True, fmt='d', cmap='Blues')\n",
    "plt.xlabel(\"Predicted\")\n",
    "plt.ylabel(\"Actual\")\n",
    "plt.title(\"Confusion Matrix\")\n",
    "plt.show()\n"
   ]
  },
  {
   "cell_type": "code",
   "execution_count": null,
   "id": "49fc1c2a-6852-4abf-a357-bde5da3d39e5",
   "metadata": {},
   "outputs": [],
   "source": []
  }
 ],
 "metadata": {
  "kernelspec": {
   "display_name": "Python 3 (ipykernel)",
   "language": "python",
   "name": "python3"
  },
  "language_info": {
   "codemirror_mode": {
    "name": "ipython",
    "version": 3
   },
   "file_extension": ".py",
   "mimetype": "text/x-python",
   "name": "python",
   "nbconvert_exporter": "python",
   "pygments_lexer": "ipython3",
   "version": "3.12.4"
  }
 },
 "nbformat": 4,
 "nbformat_minor": 5
}
